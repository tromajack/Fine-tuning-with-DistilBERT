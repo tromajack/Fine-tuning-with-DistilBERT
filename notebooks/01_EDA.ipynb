{
 "cells": [
  {
   "cell_type": "code",
   "execution_count": 1,
   "id": "1f4325c0",
   "metadata": {},
   "outputs": [],
   "source": [
    "import pandas as pd\n",
    "import numpy as np\n",
    "from matplotlib import pyplot as plt\n",
    "import seaborn as sns"
   ]
  },
  {
   "cell_type": "code",
   "execution_count": 2,
   "id": "121291ea",
   "metadata": {},
   "outputs": [],
   "source": [
    "df = pd.read_csv('../data/raw/consumer_complaints.csv')"
   ]
  },
  {
   "cell_type": "code",
   "execution_count": 3,
   "id": "c817930b",
   "metadata": {},
   "outputs": [
    {
     "data": {
      "text/html": [
       "<div>\n",
       "<style scoped>\n",
       "    .dataframe tbody tr th:only-of-type {\n",
       "        vertical-align: middle;\n",
       "    }\n",
       "\n",
       "    .dataframe tbody tr th {\n",
       "        vertical-align: top;\n",
       "    }\n",
       "\n",
       "    .dataframe thead th {\n",
       "        text-align: right;\n",
       "    }\n",
       "</style>\n",
       "<table border=\"1\" class=\"dataframe\">\n",
       "  <thead>\n",
       "    <tr style=\"text-align: right;\">\n",
       "      <th></th>\n",
       "      <th>Date received</th>\n",
       "      <th>Product</th>\n",
       "      <th>Sub-product</th>\n",
       "      <th>Issue</th>\n",
       "      <th>Sub-issue</th>\n",
       "      <th>Consumer complaint narrative</th>\n",
       "      <th>Company public response</th>\n",
       "      <th>Company</th>\n",
       "      <th>State</th>\n",
       "      <th>ZIP code</th>\n",
       "      <th>Tags</th>\n",
       "      <th>Consumer consent provided?</th>\n",
       "      <th>Submitted via</th>\n",
       "      <th>Date sent to company</th>\n",
       "      <th>Company response to consumer</th>\n",
       "      <th>Timely response?</th>\n",
       "      <th>Consumer disputed?</th>\n",
       "      <th>Complaint ID</th>\n",
       "    </tr>\n",
       "  </thead>\n",
       "  <tbody>\n",
       "    <tr>\n",
       "      <th>0</th>\n",
       "      <td>09-12-2024</td>\n",
       "      <td>Credit reporting or other personal consumer re...</td>\n",
       "      <td>Credit reporting</td>\n",
       "      <td>Incorrect information on your report</td>\n",
       "      <td>Information belongs to someone else</td>\n",
       "      <td>NaN</td>\n",
       "      <td>NaN</td>\n",
       "      <td>EQUIFAX, INC.</td>\n",
       "      <td>CA</td>\n",
       "      <td>91752</td>\n",
       "      <td>NaN</td>\n",
       "      <td>Consent not provided</td>\n",
       "      <td>Web</td>\n",
       "      <td>09-12-2024</td>\n",
       "      <td>Closed with non-monetary relief</td>\n",
       "      <td>Yes</td>\n",
       "      <td>NaN</td>\n",
       "      <td>10084178.0</td>\n",
       "    </tr>\n",
       "    <tr>\n",
       "      <th>1</th>\n",
       "      <td>04/18/22</td>\n",
       "      <td>Credit reporting, credit repair services, or o...</td>\n",
       "      <td>Credit reporting</td>\n",
       "      <td>Problem with a credit reporting company's inve...</td>\n",
       "      <td>Their investigation did not fix an error on yo...</td>\n",
       "      <td>NaN</td>\n",
       "      <td>Company has responded to the consumer and the ...</td>\n",
       "      <td>TRANSUNION INTERMEDIATE HOLDINGS, INC.</td>\n",
       "      <td>AL</td>\n",
       "      <td>35810</td>\n",
       "      <td>NaN</td>\n",
       "      <td>Consent not provided</td>\n",
       "      <td>Web</td>\n",
       "      <td>04/18/22</td>\n",
       "      <td>Closed with non-monetary relief</td>\n",
       "      <td>Yes</td>\n",
       "      <td>NaN</td>\n",
       "      <td>5458976.0</td>\n",
       "    </tr>\n",
       "    <tr>\n",
       "      <th>2</th>\n",
       "      <td>11-02-2023</td>\n",
       "      <td>Credit reporting or other personal consumer re...</td>\n",
       "      <td>Credit reporting</td>\n",
       "      <td>Incorrect information on your report</td>\n",
       "      <td>Information belongs to someone else</td>\n",
       "      <td>The purpose of this complaint is to have sever...</td>\n",
       "      <td>NaN</td>\n",
       "      <td>EQUIFAX, INC.</td>\n",
       "      <td>FL</td>\n",
       "      <td>33165</td>\n",
       "      <td>NaN</td>\n",
       "      <td>Consent provided</td>\n",
       "      <td>Web</td>\n",
       "      <td>11-02-2023</td>\n",
       "      <td>Closed with explanation</td>\n",
       "      <td>Yes</td>\n",
       "      <td>NaN</td>\n",
       "      <td>7789123.0</td>\n",
       "    </tr>\n",
       "    <tr>\n",
       "      <th>3</th>\n",
       "      <td>07/19/23</td>\n",
       "      <td>Debt collection</td>\n",
       "      <td>Credit card debt</td>\n",
       "      <td>False statements or representation</td>\n",
       "      <td>Attempted to collect wrong amount</td>\n",
       "      <td>Previously disputed account with XXXX asking t...</td>\n",
       "      <td>NaN</td>\n",
       "      <td>Resurgent Capital Services L.P.</td>\n",
       "      <td>IA</td>\n",
       "      <td>501XX</td>\n",
       "      <td>NaN</td>\n",
       "      <td>Consent provided</td>\n",
       "      <td>Web</td>\n",
       "      <td>07/19/23</td>\n",
       "      <td>Closed with explanation</td>\n",
       "      <td>Yes</td>\n",
       "      <td>NaN</td>\n",
       "      <td>7274724.0</td>\n",
       "    </tr>\n",
       "    <tr>\n",
       "      <th>4</th>\n",
       "      <td>07-07-2023</td>\n",
       "      <td>Credit reporting, credit repair services, or o...</td>\n",
       "      <td>Credit reporting</td>\n",
       "      <td>Improper use of your report</td>\n",
       "      <td>Credit inquiries on your report that you don't...</td>\n",
       "      <td>NaN</td>\n",
       "      <td>NaN</td>\n",
       "      <td>EQUIFAX, INC.</td>\n",
       "      <td>NY</td>\n",
       "      <td>11207</td>\n",
       "      <td>NaN</td>\n",
       "      <td>Consent not provided</td>\n",
       "      <td>Web</td>\n",
       "      <td>07-07-2023</td>\n",
       "      <td>Closed with explanation</td>\n",
       "      <td>Yes</td>\n",
       "      <td>NaN</td>\n",
       "      <td>7220093.0</td>\n",
       "    </tr>\n",
       "  </tbody>\n",
       "</table>\n",
       "</div>"
      ],
      "text/plain": [
       "  Date received                                            Product  \\\n",
       "0    09-12-2024  Credit reporting or other personal consumer re...   \n",
       "1      04/18/22  Credit reporting, credit repair services, or o...   \n",
       "2    11-02-2023  Credit reporting or other personal consumer re...   \n",
       "3      07/19/23                                    Debt collection   \n",
       "4    07-07-2023  Credit reporting, credit repair services, or o...   \n",
       "\n",
       "        Sub-product                                              Issue  \\\n",
       "0  Credit reporting               Incorrect information on your report   \n",
       "1  Credit reporting  Problem with a credit reporting company's inve...   \n",
       "2  Credit reporting               Incorrect information on your report   \n",
       "3  Credit card debt                 False statements or representation   \n",
       "4  Credit reporting                        Improper use of your report   \n",
       "\n",
       "                                           Sub-issue  \\\n",
       "0                Information belongs to someone else   \n",
       "1  Their investigation did not fix an error on yo...   \n",
       "2                Information belongs to someone else   \n",
       "3                  Attempted to collect wrong amount   \n",
       "4  Credit inquiries on your report that you don't...   \n",
       "\n",
       "                        Consumer complaint narrative  \\\n",
       "0                                                NaN   \n",
       "1                                                NaN   \n",
       "2  The purpose of this complaint is to have sever...   \n",
       "3  Previously disputed account with XXXX asking t...   \n",
       "4                                                NaN   \n",
       "\n",
       "                             Company public response  \\\n",
       "0                                                NaN   \n",
       "1  Company has responded to the consumer and the ...   \n",
       "2                                                NaN   \n",
       "3                                                NaN   \n",
       "4                                                NaN   \n",
       "\n",
       "                                  Company State ZIP code Tags  \\\n",
       "0                           EQUIFAX, INC.    CA    91752  NaN   \n",
       "1  TRANSUNION INTERMEDIATE HOLDINGS, INC.    AL    35810  NaN   \n",
       "2                           EQUIFAX, INC.    FL    33165  NaN   \n",
       "3         Resurgent Capital Services L.P.    IA    501XX  NaN   \n",
       "4                           EQUIFAX, INC.    NY    11207  NaN   \n",
       "\n",
       "  Consumer consent provided? Submitted via Date sent to company  \\\n",
       "0       Consent not provided           Web           09-12-2024   \n",
       "1       Consent not provided           Web             04/18/22   \n",
       "2           Consent provided           Web           11-02-2023   \n",
       "3           Consent provided           Web             07/19/23   \n",
       "4       Consent not provided           Web           07-07-2023   \n",
       "\n",
       "      Company response to consumer Timely response?  Consumer disputed?  \\\n",
       "0  Closed with non-monetary relief              Yes                 NaN   \n",
       "1  Closed with non-monetary relief              Yes                 NaN   \n",
       "2          Closed with explanation              Yes                 NaN   \n",
       "3          Closed with explanation              Yes                 NaN   \n",
       "4          Closed with explanation              Yes                 NaN   \n",
       "\n",
       "   Complaint ID  \n",
       "0    10084178.0  \n",
       "1     5458976.0  \n",
       "2     7789123.0  \n",
       "3     7274724.0  \n",
       "4     7220093.0  "
      ]
     },
     "execution_count": 3,
     "metadata": {},
     "output_type": "execute_result"
    }
   ],
   "source": [
    "df.head()"
   ]
  },
  {
   "cell_type": "code",
   "execution_count": 4,
   "id": "00546f8b",
   "metadata": {},
   "outputs": [
    {
     "data": {
      "text/plain": [
       "Date received                        1\n",
       "Product                              1\n",
       "Sub-product                         14\n",
       "Issue                                2\n",
       "Sub-issue                        22891\n",
       "Consumer complaint narrative    489461\n",
       "Company public response         332342\n",
       "Company                              1\n",
       "State                             2587\n",
       "ZIP code                           320\n",
       "Tags                            768895\n",
       "Consumer consent provided?       24356\n",
       "Submitted via                        1\n",
       "Date sent to company                 1\n",
       "Company response to consumer         9\n",
       "Timely response?                     1\n",
       "Consumer disputed?              815700\n",
       "Complaint ID                         1\n",
       "dtype: int64"
      ]
     },
     "execution_count": 4,
     "metadata": {},
     "output_type": "execute_result"
    }
   ],
   "source": [
    "df.isnull().sum()"
   ]
  },
  {
   "cell_type": "code",
   "execution_count": 5,
   "id": "2c89fa5a",
   "metadata": {},
   "outputs": [],
   "source": [
    "df = df[df['Product'].notna()]\n",
    "df = df[df['Consumer complaint narrative'].notna()]"
   ]
  },
  {
   "cell_type": "code",
   "execution_count": 6,
   "id": "f5a49f81",
   "metadata": {},
   "outputs": [],
   "source": [
    "df = df[['Consumer complaint narrative', 'Product']]\n",
    "df = df.rename(columns={'Consumer complaint narrative': 'text', 'Product': 'label'})"
   ]
  },
  {
   "cell_type": "code",
   "execution_count": 7,
   "id": "3ff2f919",
   "metadata": {},
   "outputs": [
    {
     "data": {
      "text/plain": [
       "array(['The purpose of this complaint is to have several unauthorized hard credit inquiries removed from my credit report. I received a copy of my credit report from your bureau on XX/XX/XXXX and noticed that there are unauthorized inquiries listed. Kindly investigate my claim in accordance with the Fair Credit Reporting Act. If you find any unauthorized inquiries, PLEASE REMOVE THEM AS QUICKLY AS POSSIBLE and send me a copy of my new, accurate credit report. \\nXXXX XXXX XXXX XXXX XXXX XXXX XXXX XXXX XXXX XXXX XXXX XXXX XXXX XXXX XXXX XXXX XXXX XXXX XXXX XXXX XXXX XXXX XXXX XXXX XXXX XXXX XXXX XXXX',\n",
       "       'Previously disputed account with XXXX asking to verify or delete because I do not recall having this debt. Account reported only by XXXX and stated as Closed account payment status of collection charge off with a credit limit of {$250.00} and last payment done XX/XX/19. Reporting account purchase by another lender. I hav not received any document stating my signature making me responsible to this debt... ..*Credit report is currently reporting account with all three bureaus and stating account as closed while derogatory and collection by XXXX while Open, derogatory and collection by XXXX and XXXX all at the same time. There is no way that account can have a balance of {$470.00} if credit limit was showing as {$250.00} Currently account is reporting as account in collection with a pass due. There should not be payment history, pass due nor late payments reporting especially on a dead account. XXXX is reporting consecutive charge off on a closed and dead account.',\n",
       "       'This is my numerous endeavor to tell you that I am a victim of identity theft and I complain to question specific records in my document coming about because of the wrongdoing. The records I am questioning connect with no exchanges acquiring any possession of goods, services or money that I have made or authorized. Assuming no one cares either way, block the noteworthy of any information in my credit record that came about due to an alleged fraud or extortion. \\nXXXXXXXX XXXX XXXX XXXX XXXX XXXX XXXX XXXX XXXX XXXX XXXX XXXX XXXX XXXX XXXX XXXX XXXX XXXX XXXX XXXX XXXX XXXX XXXX XXXX XXXX XXXX XXXX XXXX XXXX XXXX XXXX XXXX XXXX XXXX XXXX XXXX XXXX XXXX XXXX XXXX XXXX XXXX XXXX XXXX XXXX XXXX XXXX XXXX XXXX XXXX XXXX XXXX XXXX XXXX XXXX XXXX XXXX XXXX XXXX XXXX XXXX XXXX'],\n",
       "      dtype=object)"
      ]
     },
     "execution_count": 7,
     "metadata": {},
     "output_type": "execute_result"
    }
   ],
   "source": [
    "df['text'].iloc[0:3].values"
   ]
  },
  {
   "cell_type": "code",
   "execution_count": 8,
   "id": "093eb456",
   "metadata": {},
   "outputs": [],
   "source": [
    "import nltk\n",
    "import re\n",
    "import string\n",
    "from nltk.corpus import stopwords\n",
    "from nltk.stem import WordNetLemmatizer\n",
    "from nltk.tokenize import word_tokenize\n",
    "\n",
    "def clean_text(text: str) -> str:\n",
    "    \"\"\"\n",
    "    Clean and preprocess text data.\n",
    "    \n",
    "    Args:\n",
    "        text: Input text string.\n",
    "        \n",
    "    Returns:\n",
    "        Cleaned text string.\n",
    "    \"\"\"\n",
    "    try:\n",
    "        # Remove URLs\n",
    "        text = re.sub(r'http\\S+|www\\S+|https\\S+', '', text, flags=re.MULTILINE)\n",
    "\n",
    "        # Convert to lowercase\n",
    "        text = text.lower()\n",
    "        # Tokenize\n",
    "        tokens = word_tokenize(text)\n",
    "        \n",
    "        # Remove stopwords\n",
    "        stop_words = set(stopwords.words('english'))\n",
    "        stop_words.update(['xxxx', '--', 'xx'])\n",
    "        stop_words.update(string.punctuation)\n",
    "        stop_words.update(['\"', \"'\", '(', ')', '[', ']', '{', '}', '...', '``', \"''\"])\n",
    "    \n",
    "        tokens = [word for word in tokens if word not in stop_words]\n",
    "        \n",
    "        # Lemmatization\n",
    "        lemmatizer = WordNetLemmatizer()\n",
    "        tokens = [lemmatizer.lemmatize(word) for word in tokens]\n",
    "        \n",
    "        return ' '.join(tokens)\n",
    "    except Exception as e:\n",
    "        print(f\"Error cleaning text: {e}\")\n",
    "\n",
    "\n",
    "df['text'] = df['text'].apply(clean_text)"
   ]
  },
  {
   "cell_type": "code",
   "execution_count": 29,
   "id": "2e84bc15",
   "metadata": {},
   "outputs": [
    {
     "data": {
      "text/plain": [
       "label\n",
       "credit_reporting                                           235441\n",
       "debt_collection                                             29178\n",
       "retail_banking                                              21693\n",
       "mortgages_and_loans                                         17740\n",
       "Credit card                                                 10594\n",
       "credit_card                                                  8754\n",
       "Payday loan, title loan, personal loan, or advance loan      1379\n",
       "Prepaid card                                                 1056\n",
       "Debt or credit management                                     404\n",
       "Name: count, dtype: int64"
      ]
     },
     "execution_count": 29,
     "metadata": {},
     "output_type": "execute_result"
    }
   ],
   "source": [
    "df.label.value_counts()"
   ]
  },
  {
   "cell_type": "code",
   "execution_count": 11,
   "id": "84026a54",
   "metadata": {},
   "outputs": [
    {
     "name": "stderr",
     "output_type": "stream",
     "text": [
      "C:\\Users\\prajw\\AppData\\Local\\Temp\\ipykernel_23540\\3808144145.py:11: FutureWarning: A value is trying to be set on a copy of a DataFrame or Series through chained assignment using an inplace method.\n",
      "The behavior will change in pandas 3.0. This inplace method will never work because the intermediate object on which we are setting values always behaves as a copy.\n",
      "\n",
      "For example, when doing 'df[col].method(value, inplace=True)', try using 'df.method({col: value}, inplace=True)' or df[col] = df[col].method(value) instead, to perform the operation inplace on the original object.\n",
      "\n",
      "\n",
      "  df['label'].replace({'Credit reporting, credit repair services, or other personal consumer reports': 'credit_reporting',\n"
     ]
    }
   ],
   "source": [
    "def label_encoding(df):\n",
    "    \"\"\"\n",
    "    Merge into common categories.\n",
    "    \n",
    "    Args:\n",
    "        labels: List of string labels.\n",
    "        \n",
    "    Returns:\n",
    "        List of str-encoded labels.\n",
    "    \"\"\"\n",
    "    df['label'].replace({'Credit reporting, credit repair services, or other personal consumer reports': 'credit_reporting',\n",
    "                       'Debt collection': 'debt_collection',\n",
    "                       'Credit reporting or other personal consumer reports': 'credit_reporting',\n",
    "                       'Credit card or prepaid card': 'credit_card',\n",
    "                       'Mortgage': 'mortgages_and_loans',\n",
    "                       'Payday loan, title loan, personal loan, or advance loan': 'mortgages_and_loans',\n",
    "                       'Checking or savings account': 'retail_banking',\n",
    "                       'Money transfer, virtual currency, or money service': 'retail_banking',\n",
    "                       'Vehicle loan or lease': 'mortgages_and_loans',\n",
    "                       'Payday loan, title loan, or personal loan': 'mortgages_and_loans',\n",
    "                       'Student loan': 'mortgages_and_loans'}, inplace=True)\n",
    "    return df\n",
    "\n",
    "df = label_encoding(df)"
   ]
  },
  {
   "cell_type": "code",
   "execution_count": 16,
   "id": "6868c5cd",
   "metadata": {},
   "outputs": [
    {
     "name": "stdout",
     "output_type": "stream",
     "text": [
      "Max length of text updated: 41 at index 0\n",
      "Max length of text updated: 85 at index 1\n",
      "Max length of text updated: 144 at index 3\n",
      "Max length of text updated: 224 at index 9\n",
      "Max length of text updated: 305 at index 45\n",
      "Max length of text updated: 1753 at index 83\n",
      "Max length of text updated: 1776 at index 621\n",
      "Max length of text updated: 2774 at index 1214\n",
      "Max length of text updated: 2885 at index 17769\n",
      "Max length of text updated: 2992 at index 50084\n",
      "Max length of text updated: 2999 at index 213882\n",
      "Max length of text: 2999\n"
     ]
    }
   ],
   "source": [
    "from nltk.tokenize import word_tokenize\n",
    "temp = 0\n",
    "for i in range(len(df)):\n",
    "    size = len(word_tokenize(df['text'].iloc[i]))\n",
    "    if size > temp:\n",
    "        temp = size\n",
    "        print(f\"Max length of text updated: {temp} at index {i}\")\n",
    "\n",
    "print(f\"Max length of text: {temp}\")\n",
    "\n"
   ]
  },
  {
   "cell_type": "code",
   "execution_count": 20,
   "id": "e8574d8f",
   "metadata": {},
   "outputs": [
    {
     "data": {
      "image/png": "[encoded data removed]",
      "text/plain": [
       "<Figure size 1000x600 with 1 Axes>"
      ]
     },
     "metadata": {},
     "output_type": "display_data"
    }
   ],
   "source": [
    "plt.figure(figsize=(10, 6))\n",
    "df['text_len'] = df['text'].apply(lambda x: len(word_tokenize(x)))\n",
    "sns.histplot(df['text_len'], bins=50, kde=True)\n",
    "plt.title('Distribution of Text Lengths')\n",
    "plt.xlabel('Text Length')\n",
    "plt.ylabel('Frequency')\n",
    "plt.show()"
   ]
  },
  {
   "cell_type": "code",
   "execution_count": 21,
   "id": "3fe6dae3",
   "metadata": {},
   "outputs": [
    {
     "data": {
      "text/plain": [
       "(326239, 3)"
      ]
     },
     "execution_count": 21,
     "metadata": {},
     "output_type": "execute_result"
    }
   ],
   "source": [
    "df.shape"
   ]
  }
 ],
 "metadata": {
  "kernelspec": {
   "display_name": "Langchain",
   "language": "python",
   "name": "python3"
  },
  "language_info": {
   "codemirror_mode": {
    "name": "ipython",
    "version": 3
   },
   "file_extension": ".py",
   "mimetype": "text/x-python",
   "name": "python",
   "nbconvert_exporter": "python",
   "pygments_lexer": "ipython3",
   "version": "3.12.11"
  }
 },
 "nbformat": 4,
 "nbformat_minor": 5
}
